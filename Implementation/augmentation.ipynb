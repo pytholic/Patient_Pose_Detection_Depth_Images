{
 "cells": [
  {
   "cell_type": "code",
   "execution_count": 56,
   "id": "a1d60251",
   "metadata": {},
   "outputs": [],
   "source": [
    "import cv2\n",
    "import numpy as np\n",
    "import os\n",
    "import tensorflow as tf\n",
    "from tensorflow import keras\n",
    "from tensorflow.keras.preprocessing.image import ImageDataGenerator\n",
    "from PIL import Image"
   ]
  },
  {
   "cell_type": "code",
   "execution_count": 61,
   "id": "da59561f",
   "metadata": {},
   "outputs": [],
   "source": [
    "#create lists to save the labels (the name of the shape)\n",
    "train_dir = r'E:/projects/head_location/Implementation/CNN-based/dataset/dataset_augmented/train'\n",
    "folder_list = ['head_left', 'head_right']"
   ]
  },
  {
   "cell_type": "code",
   "execution_count": 62,
   "id": "9f0d4520",
   "metadata": {},
   "outputs": [],
   "source": [
    "gen = ImageDataGenerator(rotation_range=5, shear_range=5, zoom_range=0.1, width_shift_range=[-10, 10], \n",
    "                          height_shift_range=[-10, 10], brightness_range=[0.5,2.0])\n"
   ]
  },
  {
   "cell_type": "code",
   "execution_count": 63,
   "id": "1f903a9a",
   "metadata": {},
   "outputs": [],
   "source": [
    "def augmentation_keras(dir):\n",
    "    for folder in folder_list:\n",
    "        for file_name in os.listdir(os.path.join(dir,folder)):\n",
    "                PATH = os.path.join(dir,folder)\n",
    "                img = os.path.join(dir,folder,file_name)\n",
    "                image = cv2.imread(img, -1)\n",
    "                image = np.expand_dims(cv2.imread(img), 0)\n",
    "                #image = image.squeeze()\n",
    "                #plt.figure()\n",
    "                #plt.imshow(image)\n",
    "                aug_iter = gen.flow(image, save_to_dir=PATH, save_prefix='aug-image-' + file_name, save_format='png')\n",
    "                aug_images = [next(aug_iter)[0].astype(np.uint8) for i in range(10)]\n",
    "                #plotImages(aug_images)"
   ]
  },
  {
   "cell_type": "code",
   "execution_count": 64,
   "id": "04b967e0",
   "metadata": {},
   "outputs": [],
   "source": [
    "# Run this block to start augmentation\n",
    "augmentation_keras(train_dir)"
   ]
  },
  {
   "cell_type": "code",
   "execution_count": null,
   "id": "4068346a",
   "metadata": {},
   "outputs": [],
   "source": []
  }
 ],
 "metadata": {
  "kernelspec": {
   "display_name": "Python 3",
   "language": "python",
   "name": "python3"
  },
  "language_info": {
   "codemirror_mode": {
    "name": "ipython",
    "version": 3
   },
   "file_extension": ".py",
   "mimetype": "text/x-python",
   "name": "python",
   "nbconvert_exporter": "python",
   "pygments_lexer": "ipython3",
   "version": "3.9.5"
  }
 },
 "nbformat": 4,
 "nbformat_minor": 5
}
